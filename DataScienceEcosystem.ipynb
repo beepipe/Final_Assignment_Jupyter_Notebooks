{
 "cells": [
  {
   "cell_type": "markdown",
   "id": "7499f550",
   "metadata": {},
   "source": [
    "# Data Science Tools and Ecosystem"
   ]
  },
  {
   "cell_type": "markdown",
   "id": "d8381d90",
   "metadata": {},
   "source": [
    "## Author\n",
    "Brad Piper"
   ]
  },
  {
   "cell_type": "markdown",
   "id": "4035c07b",
   "metadata": {},
   "source": [
    "In this notebook, Data Science Tools and Ecosystem are summarized."
   ]
  },
  {
   "cell_type": "markdown",
   "id": "ddb8a1ce",
   "metadata": {},
   "source": [
    "__Objectives__\n",
    "* List languages used in Data Science\n",
    "* Show examples of libraries utilized in Data Science\n",
    "* List popular tools used by Data Scientists"
   ]
  },
  {
   "cell_type": "markdown",
   "id": "5c5de281",
   "metadata": {},
   "source": [
    "Some of the popular languages used by Data Scientists are as follows:\n",
    "1. Python\n",
    "2. R\n",
    "3. Julia"
   ]
  },
  {
   "cell_type": "markdown",
   "id": "70961d1a",
   "metadata": {},
   "source": [
    "Some of the commonly used libraries used by Data Scientists are as follows:\n",
    "1. Python - Pandas\n",
    "2. Python - NumPy\n",
    "3. R - dplyr\n",
    "4. R - ggplot\n",
    "5. R - caret"
   ]
  },
  {
   "cell_type": "markdown",
   "id": "3608c543",
   "metadata": {},
   "source": [
    "| Data Science Tools |\n",
    "| ------------------ |\n",
    "| Apache Airflow |\n",
    "| Apache Kafka |\n",
    "| KubeFlow |"
   ]
  },
  {
   "cell_type": "markdown",
   "id": "842bd1f4",
   "metadata": {},
   "source": [
    "### Below are examples of arithmetic expressions coded in Python"
   ]
  },
  {
   "cell_type": "code",
   "execution_count": 1,
   "id": "71cda0b1",
   "metadata": {},
   "outputs": [
    {
     "data": {
      "text/plain": [
       "17"
      ]
     },
     "execution_count": 1,
     "metadata": {},
     "output_type": "execute_result"
    }
   ],
   "source": [
    "# This is a simple expression to multiply and then add integers, the equation being (3*4)+5\n",
    "(3*4)+5"
   ]
  },
  {
   "cell_type": "code",
   "execution_count": 2,
   "id": "6907a0eb",
   "metadata": {},
   "outputs": [
    {
     "data": {
      "text/plain": [
       "3.3333333333333335"
      ]
     },
     "execution_count": 2,
     "metadata": {},
     "output_type": "execute_result"
    }
   ],
   "source": [
    "# This code will convert 200 minutes to hours by division (200/60)\n",
    "200/60"
   ]
  },
  {
   "cell_type": "code",
   "execution_count": null,
   "id": "446cefd2",
   "metadata": {},
   "outputs": [],
   "source": []
  }
 ],
 "metadata": {
  "kernelspec": {
   "display_name": "Python 3 (ipykernel)",
   "language": "python",
   "name": "python3"
  },
  "language_info": {
   "codemirror_mode": {
    "name": "ipython",
    "version": 3
   },
   "file_extension": ".py",
   "mimetype": "text/x-python",
   "name": "python",
   "nbconvert_exporter": "python",
   "pygments_lexer": "ipython3",
   "version": "3.11.5"
  }
 },
 "nbformat": 4,
 "nbformat_minor": 5
}
